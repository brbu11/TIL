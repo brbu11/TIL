{
 "cells": [
  {
   "cell_type": "markdown",
   "metadata": {},
   "source": [
    "# 시작하기전에\n",
    "\n",
    "<wikipedia - 객체지향 프로그래밍> \n",
    ">\n",
    "> 객체 지향 프로그래밍(영어: Object-Oriented Programming, OOP)은 컴퓨터 프 로그래밍의 패러다임의 하나이다. 객체 지향 프로그래밍은 컴퓨터 프로그램을 명령어의 목록으로 보는 시각에서 벗어나 여러 개의 독립된 단위, 즉 \"객체\"들의 모임으로 파악하고자 하는 것이다. 각각의 객체는 메시지를 주고받고, 데이터를 처리할 수 있다.\n",
    ">\n",
    "> 명령형 프로그래밍인 절차지향 프로그래밍에서 발전된 형태를 나타내며, 기본 구성요소는 다음과 같다.\n",
    "\n",
    "* 클래스(Class) - 같은 종류(또는 문제 해결을 위한)의 집단에 속하는 속성(attribute)과 행위(behavior)를 정의한 것으로 객체지향 프로그램의 기본적인 사용자 정의 데이터형(user define data type)이라고 할 수 있다. 클래스는 프로그래머가 아니지만 해결해야 할 문제가 속하는 영역에 종사하는 사람이라면 사용할 수 있고, 다른 클래스 또는 외부 요소와 독립적으로 디자인하여야 한다.\n",
    "\n",
    "\n",
    "* 인스턴스 - 클래스의 인스턴스(실제로 메모리상에 할당된 것)이다. 객체는 자신 고유의 속성(attribute)을 가지며 클래스에서 정의한 행위(behavior)를 수행할 수 있다. 객체의 행위는 클래스에 정의된 행위에 대한 정의를 공유함으로써 메모리를 경제적으로 사용한다.\n",
    "\n",
    "\n",
    "* 메서드(Method) - 클래스로부터 생성된 객체를 사용하는 방법으로서 객체에 명령을 내리는 것이라 할 수 있다. 메서드는 한 객체의 속성을 조작하는 데 사용된다."
   ]
  },
  {
   "cell_type": "code",
   "execution_count": 13,
   "metadata": {},
   "outputs": [
    {
     "name": "stdout",
     "output_type": "stream",
     "text": [
      "<class 'complex'>\n"
     ]
    }
   ],
   "source": [
    "# 복소수를 하나 만들어보고, 타입을 출력해봅시다.\n",
    "img_number = 3 +4j\n",
    "print(type(img_number))"
   ]
  },
  {
   "cell_type": "code",
   "execution_count": null,
   "metadata": {},
   "outputs": [],
   "source": []
  },
  {
   "cell_type": "code",
   "execution_count": 21,
   "metadata": {},
   "outputs": [
    {
     "data": {
      "text/plain": [
       "4.0"
      ]
     },
     "execution_count": 21,
     "metadata": {},
     "output_type": "execute_result"
    }
   ],
   "source": [
    "# 허수부랑 실수부를 함께 출력해봅시다.\n",
    "img_number.imag"
   ]
  },
  {
   "cell_type": "code",
   "execution_count": 10,
   "metadata": {},
   "outputs": [
    {
     "name": "stdout",
     "output_type": "stream",
     "text": [
      "[1, 2, 3]\n"
     ]
    }
   ],
   "source": [
    "# 리스트를 하나 만들고 정렬해봅시다.\n",
    "a = [3, 2, 1]\n",
    "a.sort()\n",
    "print(a)"
   ]
  },
  {
   "cell_type": "code",
   "execution_count": 11,
   "metadata": {},
   "outputs": [
    {
     "name": "stdout",
     "output_type": "stream",
     "text": [
      "['__add__', '__class__', '__contains__', '__delattr__', '__delitem__', '__dir__', '__doc__', '__eq__', '__format__', '__ge__', '__getattribute__', '__getitem__', '__gt__', '__hash__', '__iadd__', '__imul__', '__init__', '__init_subclass__', '__iter__', '__le__', '__len__', '__lt__', '__mul__', '__ne__', '__new__', '__reduce__', '__reduce_ex__', '__repr__', '__reversed__', '__rmul__', '__setattr__', '__setitem__', '__sizeof__', '__str__', '__subclasshook__', 'append', 'clear', 'copy', 'count', 'extend', 'index', 'insert', 'pop', 'remove', 'reverse', 'sort']\n"
     ]
    }
   ],
   "source": [
    "# 리스트가 할 수 있는 것들을 알아봅시다. = list class의 object가 할 수 있는 것을 알아봅시다.\n",
    "print(dir(list))"
   ]
  },
  {
   "cell_type": "markdown",
   "metadata": {},
   "source": [
    "## 실습 문제\n",
    "\n",
    "> 프로그래밍으로 나와 친구의 이름을 저장해보세요.\n",
    ">\n",
    "\n",
    "**각자의 명함과 지갑을 만들어봅시다.**\n",
    "\n",
    "* 내 생일, 전화번호, 이메일주소 정보를 담은 변수를 확인해봅시다.\n",
    "\n",
    "* 주머니(pocket)에는 돈(won)을 포함하여 현재 가지고 있는 것을 작성해보세요.\n",
    "\n",
    "* 나는 인사를 하면서 내 명함에 있는 정보 하나를 이야기합니다. `greeting` 함수를 만듭시다.\n",
    "\n",
    "* 나는 주머니에 원하는 것과 갯수를 지정하여 넣을 수 있습니다. \n",
    "\n",
    "  기존에 값이 있으면, 갯수를 추가하고 없으면 새로 만드는 `in_my_pocket` 함수를 만듭시다.\n",
    "  \n",
    "**친구의 정보와 지갑도 만들어봅시다.**"
   ]
  },
  {
   "cell_type": "code",
   "execution_count": 40,
   "metadata": {},
   "outputs": [
    {
     "name": "stdout",
     "output_type": "stream",
     "text": [
      "Hi, 내 name은 이종화.\n",
      "Hi, 내 phone은 01092137891.\n",
      "Hi, 내 email은 brbu11@naver.com.\n",
      "2\n",
      "{'money': 10002, 'card': 'credit card'}\n"
     ]
    }
   ],
   "source": [
    "# 아래에 자유롭게 코드를 작성해보세요.\n",
    "my_info = {\n",
    "    \"name\" : \"이종화\",\n",
    "    \"phone\" : \"01092137891\",\n",
    "    \"email\" : \"brbu11@naver.com\"\n",
    "}\n",
    "\n",
    "my_pocket = {\n",
    "    \"money\" : 10000,\n",
    "    \"card\" : \"credit card\"\n",
    "        \n",
    "}\n",
    "def greeting(info):\n",
    "    for i in info:\n",
    "        print(f'Hi, 내 {i}은 {info[i]}.')\n",
    "greeting(my_info)\n",
    "\n",
    "def in_my_pocket(pocket, stuff, count):\n",
    "    if pocket.get(stuff):\n",
    "        pocket[stuff] += count\n",
    "        print(count)\n",
    "    else:\n",
    "        pocket[stuff] = count\n",
    "        print(count)\n",
    "        \n",
    "    return pocket\n",
    "\n",
    "print(in_my_pocket(my_pocket, \"money\", 2))\n",
    "    "
   ]
  },
  {
   "cell_type": "code",
   "execution_count": 15,
   "metadata": {},
   "outputs": [],
   "source": [
    "#비정상적\n",
    "mates = {\n",
    "\"Jong\" : {\n",
    "    \"name\" : \"이종화\",\n",
    "    \"githubID\" : \"brbu11\"\n",
    "},\n",
    "\"Ko\" : {\n",
    "    \n",
    "    \"name\" : \"고재두\",\n",
    "    \"githubID\" : \"nadarm\"\n",
    "},\n",
    "\"Lee\" : {\n",
    "    \"name\" : \"이상택\",\n",
    "    \"githubID\" : \"mnoko33\"\n",
    "}\n",
    "}\n",
    "# def arrive(mate):\n",
    "#     if mate['name'] == \"이종화\":\n",
    "#         print(\" 화장실에 간다 \")\n",
    "#     else:\n",
    "#         print(\" ㅎㅎ \")\n",
    "# arrive(info_2)"
   ]
  },
  {
   "cell_type": "code",
   "execution_count": 78,
   "metadata": {},
   "outputs": [
    {
     "name": "stdout",
     "output_type": "stream",
     "text": [
      "이종화는 도착하면 공부를 합니다.\n",
      "3 703\n",
      "고재두는 도착하면 제일 일찍와서를 합니다.\n"
     ]
    }
   ],
   "source": [
    "class Mate:\n",
    "    classroom = 703\n",
    "    ban = 3\n",
    "    def __init__(self, name, githubID, arrive):\n",
    "        self.name = name\n",
    "        self.githubID = githubID\n",
    "        self.arrive = arrive\n",
    "    def get_info(self):\n",
    "        print(self.name, self.githubID)\n",
    "    def dochak(self):\n",
    "        print(f\"{self.name}는 도착하면 {self.arrive}를 합니다.\")\n",
    "\n",
    "jong = Mate(\"이종화\", \"brbu11\",\"공부\")\n",
    "jong.dochak()\n",
    "ko = Mate(\"고재두\", \" \", \"제일 일찍와서\")\n",
    "print(jong.ban, jong.classroom)\n",
    "ko.dochak()"
   ]
  },
  {
   "cell_type": "code",
   "execution_count": 40,
   "metadata": {},
   "outputs": [
    {
     "name": "stdout",
     "output_type": "stream",
     "text": [
      "True\n",
      "한글자만 쓰셈d\n",
      "Byung-Shin\n"
     ]
    },
    {
     "ename": "TypeError",
     "evalue": "object() takes no parameters",
     "output_type": "error",
     "traceback": [
      "\u001b[1;31m---------------------------------------------------------------------------\u001b[0m",
      "\u001b[1;31mTypeError\u001b[0m                                 Traceback (most recent call last)",
      "\u001b[1;32m<ipython-input-40-9f7aa63912b0>\u001b[0m in \u001b[0;36m<module>\u001b[1;34m\u001b[0m\n\u001b[0;32m     22\u001b[0m     \u001b[1;32mdef\u001b[0m \u001b[0mappend\u001b[0m\u001b[1;33m(\u001b[0m\u001b[0mself\u001b[0m\u001b[1;33m,\u001b[0m \u001b[0me\u001b[0m\u001b[1;33m)\u001b[0m\u001b[1;33m:\u001b[0m\u001b[1;33m\u001b[0m\u001b[1;33m\u001b[0m\u001b[0m\n\u001b[0;32m     23\u001b[0m         \u001b[0mself\u001b[0m \u001b[1;33m+=\u001b[0m \u001b[1;33m[\u001b[0m\u001b[0me\u001b[0m\u001b[1;33m]\u001b[0m\u001b[1;33m\u001b[0m\u001b[1;33m\u001b[0m\u001b[0m\n\u001b[1;32m---> 24\u001b[1;33m \u001b[0mmy_list\u001b[0m \u001b[1;33m=\u001b[0m \u001b[0mList\u001b[0m\u001b[1;33m(\u001b[0m\u001b[1;33m[\u001b[0m\u001b[1;34m\"a\"\u001b[0m\u001b[1;33m,\u001b[0m \u001b[1;34m\"b\"\u001b[0m\u001b[1;33m]\u001b[0m\u001b[1;33m)\u001b[0m\u001b[1;33m\u001b[0m\u001b[1;33m\u001b[0m\u001b[0m\n\u001b[0m\u001b[0;32m     25\u001b[0m \u001b[0mmy_list\u001b[0m\u001b[1;33m.\u001b[0m\u001b[0mappend\u001b[0m\u001b[1;33m(\u001b[0m\u001b[0me\u001b[0m\u001b[1;33m)\u001b[0m\u001b[1;33m\u001b[0m\u001b[1;33m\u001b[0m\u001b[0m\n",
      "\u001b[1;31mTypeError\u001b[0m: object() takes no parameters"
     ]
    }
   ],
   "source": [
    "class Text:\n",
    "    def __init__(self, contents):\n",
    "        self.contents = contents\n",
    "    def is_palindrome(self):\n",
    "        txt = self.contents.replace(\" \",\"\").lower()\n",
    "        return txt == \"\".join(reversed(txt))\n",
    "    def start_hangman(self):\n",
    "        guess = input(\"한글자만 쓰셈\")\n",
    "        if guess in self.contents:\n",
    "            print(\"오 맞음!\")\n",
    "            return True\n",
    "        else :\n",
    "            print(\"Byung-Shin\")\n",
    "            return False\n",
    "\n",
    "my_text = Text(\"A santa at NASA\")\n",
    "print(my_text.is_palindrome())\n",
    "your_text = Text(\"apple\")\n",
    "your_text.start_hangman()\n",
    "\n",
    "# class List :\n",
    "#     def append(self, e):\n",
    "#         self += [e]\n",
    "# my_list = List([\"a\", \"b\"])\n",
    "# my_list.append(e)"
   ]
  },
  {
   "cell_type": "code",
   "execution_count": null,
   "metadata": {},
   "outputs": [],
   "source": [
    "# in_my_pocket 함수를 통해 내 주머니에 내용을 추가해봅시다."
   ]
  },
  {
   "cell_type": "code",
   "execution_count": null,
   "metadata": {},
   "outputs": [],
   "source": [
    "# greeting 함수를 통해 인사를 해봅시다.\n",
    "#=> 안녕, kim이야. 01012345678"
   ]
  },
  {
   "cell_type": "markdown",
   "metadata": {},
   "source": [
    "# 클래스 및 인스턴스"
   ]
  },
  {
   "cell_type": "markdown",
   "metadata": {},
   "source": [
    "## 클래스 객체\n",
    "\n",
    "```python\n",
    "class ClassName:\n",
    "    \n",
    "```\n",
    "\n",
    "* 선언과 동시에 클래스 객체가 생성됨.\n",
    "\n",
    "* 또한, 선언된 공간은 지역 스코프로 사용된다.\n",
    "\n",
    "* 정의된 어트리뷰트 중 변수는 멤버 변수로 불리운다.\n",
    "\n",
    "* 정의된 함수(`def`)는 메서드로 불리운다."
   ]
  },
  {
   "cell_type": "code",
   "execution_count": 42,
   "metadata": {},
   "outputs": [
    {
     "name": "stdout",
     "output_type": "stream",
     "text": [
      "<class 'type'>\n",
      "Test Class\n"
     ]
    }
   ],
   "source": [
    "# Class를 만들어봅시다.\n",
    "class TestClass:\n",
    "    \"\"\"Test Class\"\"\"\n",
    "# tc = TestClass()\n",
    "# print(type(TestClass))\n",
    "# print(tc.__doc__)\n"
   ]
  },
  {
   "cell_type": "code",
   "execution_count": 62,
   "metadata": {
    "scrolled": true
   },
   "outputs": [
    {
     "name": "stdout",
     "output_type": "stream",
     "text": [
      "안녕\n",
      "홍길동\n"
     ]
    }
   ],
   "source": [
    "# Person 클래스를 만들어봅시다.\n",
    "class Person:\n",
    "    name = \"홍길동\"\n",
    "    \n",
    "    def say_hi(self):\n",
    "        print(\"안녕\")\n",
    "    def intro(self):\n",
    "        print(f'I am {self.name}')\n",
    "p = Person()\n",
    "p.say_hi()\n",
    "print(p.name)"
   ]
  },
  {
   "cell_type": "markdown",
   "metadata": {},
   "source": [
    "* 선언시 self는 반드시 작성해주세요! 나중에 설명드립니다."
   ]
  },
  {
   "cell_type": "markdown",
   "metadata": {},
   "source": [
    "## 인스턴스 객체\n",
    "\n",
    "* 인스턴스 객체는 `ClassName()`을 호출함으로써 선언된다.\n",
    "\n",
    "* 인스턴스 객체와 클래스 객체는 서로 다른 이름 공간을 가지고 있다.\n",
    "\n",
    "* 인스턴스 -> 클래스 -> 전역 순으로 탐색을 한다."
   ]
  },
  {
   "cell_type": "code",
   "execution_count": 63,
   "metadata": {},
   "outputs": [],
   "source": [
    "# 클래스 Person dp iu라는 인스턴스를 만들어봅시다.\n",
    "iu = Person()"
   ]
  },
  {
   "cell_type": "code",
   "execution_count": 64,
   "metadata": {},
   "outputs": [
    {
     "name": "stdout",
     "output_type": "stream",
     "text": [
      "안녕\n",
      "I am IU\n"
     ]
    }
   ],
   "source": [
    "# 인사하는 메서드를 호출해봅시다.\n",
    "iu.say_hi()\n",
    "iu.name = \"IU\"\n",
    "iu.name\n",
    "iu.intro()"
   ]
  },
  {
   "cell_type": "code",
   "execution_count": null,
   "metadata": {},
   "outputs": [],
   "source": [
    "# iu의 이름을 확인해봅시다."
   ]
  },
  {
   "cell_type": "code",
   "execution_count": null,
   "metadata": {},
   "outputs": [],
   "source": [
    "# iu로 이름을 바꿔주세요."
   ]
  },
  {
   "cell_type": "code",
   "execution_count": null,
   "metadata": {},
   "outputs": [],
   "source": [
    "# iu가 인사를 합니다."
   ]
  },
  {
   "cell_type": "code",
   "execution_count": 65,
   "metadata": {},
   "outputs": [
    {
     "data": {
      "text/plain": [
       "True"
      ]
     },
     "execution_count": 65,
     "metadata": {},
     "output_type": "execute_result"
    }
   ],
   "source": [
    "# iu와 Person이 같은지 확인해보겠습니다.\n",
    "isinstance(iu, Person)\n",
    "\n"
   ]
  },
  {
   "cell_type": "code",
   "execution_count": 67,
   "metadata": {},
   "outputs": [
    {
     "name": "stdout",
     "output_type": "stream",
     "text": [
      "<class '__main__.Person'>\n"
     ]
    },
    {
     "data": {
      "text/plain": [
       "__main__.Person"
      ]
     },
     "execution_count": 67,
     "metadata": {},
     "output_type": "execute_result"
    }
   ],
   "source": [
    "# iu와 Person이 같은지 확인해보겠습니다.\n",
    "print(type(iu))\n",
    "Person"
   ]
  },
  {
   "cell_type": "code",
   "execution_count": 71,
   "metadata": {},
   "outputs": [
    {
     "name": "stdout",
     "output_type": "stream",
     "text": [
      "<__main__.Person object at 0x0000029FC4DB62B0>\n"
     ]
    }
   ],
   "source": [
    "# iu를 출력해봅시다.\n",
    "print(iu)"
   ]
  },
  {
   "cell_type": "code",
   "execution_count": 72,
   "metadata": {},
   "outputs": [
    {
     "data": {
      "text/plain": [
       "__main__.Person"
      ]
     },
     "execution_count": 72,
     "metadata": {},
     "output_type": "execute_result"
    }
   ],
   "source": [
    "# iu를 출력해봅시다 2.\n",
    "Person"
   ]
  },
  {
   "cell_type": "code",
   "execution_count": null,
   "metadata": {},
   "outputs": [],
   "source": [
    "# type을 확인해봅시다."
   ]
  },
  {
   "cell_type": "markdown",
   "metadata": {},
   "source": [
    "* 파이썬 출력의 비밀 : repr, str"
   ]
  },
  {
   "cell_type": "code",
   "execution_count": null,
   "metadata": {},
   "outputs": [],
   "source": []
  },
  {
   "cell_type": "code",
   "execution_count": 74,
   "metadata": {},
   "outputs": [],
   "source": [
    "# 강다니엘을 만들어봅시다.\n",
    "강다니엘 = Person()\n"
   ]
  },
  {
   "cell_type": "code",
   "execution_count": null,
   "metadata": {},
   "outputs": [],
   "source": [
    "# 강다니엘을 출력해봅시다."
   ]
  },
  {
   "cell_type": "markdown",
   "metadata": {},
   "source": [
    "## 실습 문제 발전\n",
    "\n",
    "> 지금까지 배운 것을 통해서 Person 클래스를 만들고, 친구와 나를 표현해봅시다.\n",
    ">\n",
    "> 주머니와 정보를 가지고 있고 (멤버 변수)\n",
    "> \n",
    "> 인사(`greeting()`)와 주머니에 내용을 추가(`in_my_pocket()`)할 수 있습니다. (메서드)\n",
    ">\n",
    "> 추가적으로 `get_my_pocket()`으로 지갑에 담긴 정보를 가져와 봅시다.\n",
    ">\n",
    "> 그리고 사람을 출력하면, 지갑을 제외한 정보를 보여줘보세요. "
   ]
  },
  {
   "cell_type": "code",
   "execution_count": null,
   "metadata": {},
   "outputs": [],
   "source": [
    "# 아래에 코드를 작성해주세요.    "
   ]
  },
  {
   "cell_type": "markdown",
   "metadata": {},
   "source": [
    "## MyList만들기\n",
    "\n",
    "> 이제 배운 것을 활용하여 나만의 리스트 객체를 만들 수 있습니다. \n",
    ">\n",
    "> `class MyList:`\n",
    ">\n",
    "\n",
    "```\n",
    "* 변수\n",
    "data : 비어 있는 리스트\n",
    "\n",
    "* 메서드 \n",
    "append : 값을 받아 추가합니다.\n",
    "pop : 마지막에 있는 값을 없애고, 해당 값을 리턴합니다.\n",
    "reverse : 제자리에서 뒤집고 리턴 값은 없습니다.\n",
    "count(x) : x의 갯수를 반환합니다.\n",
    "clear : 값을 모두 삭제합니다.\n",
    "\n",
    "__repr__ : ex) '리스트 내용 1, 2, 3'\n",
    "```"
   ]
  },
  {
   "cell_type": "code",
   "execution_count": null,
   "metadata": {},
   "outputs": [],
   "source": [
    "# 아래에 코드를 작성해주세요."
   ]
  },
  {
   "cell_type": "markdown",
   "metadata": {},
   "source": [
    "## 자유롭게 만들어보기\n",
    "\n",
    "> 이 세상에 있는 무엇인가를 자유롭게 표현해주세요."
   ]
  },
  {
   "cell_type": "code",
   "execution_count": 91,
   "metadata": {},
   "outputs": [
    {
     "name": "stdout",
     "output_type": "stream",
     "text": [
      "피카츄 lv8 VS 롱스톤 lv9\n",
      "\n",
      "롱스톤 level9  HP : 82\n",
      "피카츄 level8  HP : 68.3\n",
      "롱스톤 level9  HP : 78.0\n",
      "피카츄 level8  HP : 57.5\n",
      "롱스톤 level9  HP : 70.0\n",
      "피카츄 level8  HP : 46.7\n",
      "롱스톤 level9  HP : 66.0\n",
      "피카츄 level8  HP : 35.0\n",
      "롱스톤 level9  HP : 58.0\n",
      "피카츄 level8  HP : 23.3\n",
      "롱스톤 level9  HP : 54.0\n",
      "피카츄 level8  HP : 11.6\n",
      "롱스톤 level9  HP : 50.0\n",
      "피카츄 level8  HP : 0.8\n",
      "롱스톤 level9  HP : 42.0\n",
      "피카츄 level8  HP : -10.9\n",
      "피카츄 lv8이 패배\n"
     ]
    }
   ],
   "source": [
    "# 아래에 코드를 작성해주세요.\n",
    "import random\n",
    "\n",
    "class Pockemon:\n",
    "    def __init__(self, name, level):\n",
    "        self.name = name\n",
    "        self.level = level\n",
    "        self.hp = level * 10\n",
    "    \n",
    "    def set_hp(self, point):\n",
    "        self.hp +=point\n",
    "        print(f\"{self.name} level{self.level}  HP : {round(self.hp,1)}\")\n",
    "        \n",
    "    def check_status(self):\n",
    "        if self.hp > 0 :\n",
    "            return True\n",
    "        else:\n",
    "            print(f\"{self.name} lv{self.level}이 패배\")\n",
    "            return False\n",
    "   \n",
    "        \n",
    "class Pika(Pockemon):\n",
    "    type = \"elec\"\n",
    "    def sel_attack(self, enemy):\n",
    "        if random.choice(range(2)) == 1:\n",
    "            return pika.body_attack(enemy)\n",
    "        else:\n",
    "            return pika.volt_attack(enemy)\n",
    "    \n",
    "    def body_attack(self, enemy):\n",
    "        enemy.set_hp(-1 * self.level)\n",
    "    def volt_attack(self, enemy):\n",
    "        if enemy.type == \"water\":\n",
    "            enemy.set_hp(-1.5 * self.level)\n",
    "        elif enemy.type == \"stone\":\n",
    "            enemy.set_hp(-0.5 * self.level)\n",
    "        else:\n",
    "            enemy.set_hp(-1.1 * self.level)\n",
    "            \n",
    "class Kobuk(Pockemon):\n",
    "    type = \"water\"\n",
    "    def sel_attack(self, enemy):\n",
    "        if random.choice(range(2)) == 1:\n",
    "            return kobuk.body_attack(enemy)\n",
    "        else:\n",
    "            return kobuk.water_attack(enemy)\n",
    "    def body_attack(self, enemy):\n",
    "        enemy.set_hp(-1 * self.level)\n",
    "    def water_attack(self, enemy):\n",
    "        if enemy.type == \"stone\":\n",
    "            enemy.set_hp(-1.5 * self.level)\n",
    "        elif enemy.type == \"elec\":\n",
    "            enemy.set_hp(-0.8 * self.level)\n",
    "        else:\n",
    "            enemy.set_hp(-1.1 * self.level)\n",
    "            \n",
    "class Longstone(Pockemon):\n",
    "    type = \"stone\"\n",
    "    def sel_attack(self, enemy):\n",
    "        if random.choice(range(2)) == 1:\n",
    "            return long.body_attack(enemy)\n",
    "        else:\n",
    "            return long.hard_attack(enemy)\n",
    "    def body_attack(self, enemy):\n",
    "        enemy.set_hp(-1.2 * self.level)\n",
    "    def hard_attack(self, enemy):\n",
    "        enemy.set_hp(-1.3 * self.level)\n",
    "        \n",
    "select1 = random.choice(range(3))\n",
    "select2 = random.choice(range(3))\n",
    "\n",
    "level1 = random.choice(range(8,12))\n",
    "level2 = random.choice(range(8,12))\n",
    "level3 = random.choice(range(8,12))\n",
    "pika = Pika('피카츄', level1)\n",
    "kobuk = Kobuk('꼬부기', level2)\n",
    "long = Longstone(\"롱스톤\", level3)\n",
    "if select1 == 0:\n",
    "    a = pika\n",
    "elif select1 == 1:\n",
    "    a = kobuk\n",
    "else:\n",
    "    a = long\n",
    "if select2 == 0:\n",
    "    b = pika\n",
    "elif select2 == 1:\n",
    "    b = kobuk\n",
    "else:\n",
    "    b = long\n",
    "\n",
    "def battle(a, b):\n",
    "    print( f\"{a.name} lv{a.level} VS {b.name} lv{b.level}\" , end = \"\\n\\n\" )\n",
    "    while a.check_status() and b.check_status() :\n",
    "        a.sel_attack(b)\n",
    "        b.sel_attack(a)\n",
    "\n",
    "        \n",
    "battle(a,b)"
   ]
  }
 ],
 "metadata": {
  "kernelspec": {
   "display_name": "Python 3",
   "language": "python",
   "name": "python3"
  },
  "language_info": {
   "codemirror_mode": {
    "name": "ipython",
    "version": 3
   },
   "file_extension": ".py",
   "mimetype": "text/x-python",
   "name": "python",
   "nbconvert_exporter": "python",
   "pygments_lexer": "ipython3",
   "version": "3.6.7"
  },
  "latex_envs": {
   "LaTeX_envs_menu_present": true,
   "autoclose": false,
   "autocomplete": true,
   "bibliofile": "biblio.bib",
   "cite_by": "apalike",
   "current_citInitial": 1,
   "eqLabelWithNumbers": true,
   "eqNumInitial": 1,
   "hotkeys": {
    "equation": "Ctrl-E",
    "itemize": "Ctrl-I"
   },
   "labels_anchors": false,
   "latex_user_defs": false,
   "report_style_numbering": false,
   "user_envs_cfg": false
  },
  "toc": {
   "base_numbering": 1,
   "nav_menu": {},
   "number_sections": true,
   "sideBar": true,
   "skip_h1_title": false,
   "title_cell": "Table of Contents",
   "title_sidebar": "Contents",
   "toc_cell": false,
   "toc_position": {},
   "toc_section_display": true,
   "toc_window_display": false
  }
 },
 "nbformat": 4,
 "nbformat_minor": 2
}
