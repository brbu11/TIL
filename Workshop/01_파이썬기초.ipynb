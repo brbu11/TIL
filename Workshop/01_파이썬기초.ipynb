{
 "cells": [
  {
   "cell_type": "markdown",
   "metadata": {},
   "source": [
    "Day1\n",
    "\n",
    "Workshop"
   ]
  },
  {
   "cell_type": "markdown",
   "metadata": {},
   "source": [
    "### 두 개의 정수 n과 m이 주어집니다. 반복문을 사용하지 않고 별(*) 문자를 이용해 가로 의 길이가 n, 세로의 길이가 m인 직사각형 형태를 출력해보세요.\n"
   ]
  },
  {
   "cell_type": "code",
   "execution_count": 16,
   "metadata": {},
   "outputs": [
    {
     "name": "stdout",
     "output_type": "stream",
     "text": [
      "*****\n",
      "*****\n",
      "*****\n",
      "*****\n",
      "*****\n",
      "*****\n",
      "*****\n",
      "*****\n",
      "*****\n"
     ]
    }
   ],
   "source": [
    "n = 5\n",
    "m = 9\n",
    "i = 0\n",
    "    \n",
    "while i < m:\n",
    "    print(\"*\"*n)\n",
    "    i += 1"
   ]
  },
  {
   "cell_type": "markdown",
   "metadata": {},
   "source": [
    "### 다음 딕셔너리에서 평균 점수를 출력하시오"
   ]
  },
  {
   "cell_type": "code",
   "execution_count": 27,
   "metadata": {},
   "outputs": [
    {
     "name": "stdout",
     "output_type": "stream",
     "text": [
      "87.75\n"
     ]
    }
   ],
   "source": [
    "student = {\"python\" : 80, \"algorithm\" : 99, \"django\" : 89, \"flask\" : 83}\n",
    "\n",
    "average = (student[\"python\"] + student[\"algorithm\"] + student[\"django\"] + student[\"flask\"] )/ len(student)\n",
    "\n",
    "print(average)"
   ]
  },
  {
   "cell_type": "markdown",
   "metadata": {},
   "source": [
    "### 다음은 학생들의 혈액형(A, B, AB, O)에 대한 데이터이다. for문을 이용하여 각 혈액형 별 학생수의 합계를 구하시오."
   ]
  },
  {
   "cell_type": "code",
   "execution_count": 48,
   "metadata": {},
   "outputs": [
    {
     "name": "stdout",
     "output_type": "stream",
     "text": [
      "\n",
      "    A형 : 3명\n",
      "    B형 : 3명\n",
      "    AB형 : 3명\n",
      "    O형 : 3명\n",
      "\n"
     ]
    }
   ],
   "source": [
    "blood_types = ['A', 'B', 'A', 'O', 'AB', 'AB', 'O', 'A', 'B' ,'O', 'B', 'AB']\n",
    "\n",
    "A = 0\n",
    "B = 0\n",
    "AB = 0\n",
    "O = 0\n",
    "i = 0\n",
    "\n",
    "for i in blood_types:\n",
    "    if i == 'A':\n",
    "        A += 1\n",
    "    elif i == 'B':\n",
    "        B += 1\n",
    "    elif i == 'AB':\n",
    "        AB += 1\n",
    "    elif i == 'O':\n",
    "        O += 1\n",
    "\n",
    "print(\"\"\"\n",
    "    A형 : {}명\n",
    "    B형 : {}명\n",
    "    AB형 : {}명\n",
    "    O형 : {}명\n",
    "\"\"\".format(A,B,AB,O))"
   ]
  },
  {
   "cell_type": "code",
   "execution_count": null,
   "metadata": {},
   "outputs": [],
   "source": []
  }
 ],
 "metadata": {
  "kernelspec": {
   "display_name": "Python 3",
   "language": "python",
   "name": "python3"
  },
  "language_info": {
   "codemirror_mode": {
    "name": "ipython",
    "version": 3
   },
   "file_extension": ".py",
   "mimetype": "text/x-python",
   "name": "python",
   "nbconvert_exporter": "python",
   "pygments_lexer": "ipython3",
   "version": "3.6.7"
  }
 },
 "nbformat": 4,
 "nbformat_minor": 2
}
