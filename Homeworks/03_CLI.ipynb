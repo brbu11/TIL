{
 "cells": [
  {
   "cell_type": "markdown",
   "metadata": {},
   "source": [
    "##### 1-1. F\n",
    "##### 1-2. F\n",
    "##### 1-3. T\n",
    "##### 1-4. T\n",
    "\n",
    "##### 2-1. List 약자로 현재있는 위치의 폴더 파일들을 보여줌\n",
    "##### 2-2. Change Directory 약자로 경로를 바꿔줌\n",
    "##### 2-3. Make dircetory 폴더만들어줌\n",
    "##### 2-4. 파일 생성\n",
    "\n",
    "##### 3. 자동완성"
   ]
  }
 ],
 "metadata": {
  "kernelspec": {
   "display_name": "Python 3",
   "language": "python",
   "name": "python3"
  },
  "language_info": {
   "codemirror_mode": {
    "name": "ipython",
    "version": 3
   },
   "file_extension": ".py",
   "mimetype": "text/x-python",
   "name": "python",
   "nbconvert_exporter": "python",
   "pygments_lexer": "ipython3",
   "version": "3.6.7"
  }
 },
 "nbformat": 4,
 "nbformat_minor": 2
}
