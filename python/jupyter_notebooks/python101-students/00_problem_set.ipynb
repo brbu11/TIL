{
 "cells": [
  {
   "cell_type": "markdown",
   "metadata": {},
   "source": [
    "# Problem set"
   ]
  },
  {
   "cell_type": "markdown",
   "metadata": {},
   "source": [
    "## 19-01-08"
   ]
  },
  {
   "cell_type": "code",
   "execution_count": null,
   "metadata": {},
   "outputs": [],
   "source": []
  },
  {
   "cell_type": "markdown",
   "metadata": {},
   "source": [
    "## 1. 이상한 덧셈\n",
    "> 숫자로 구성된 리스트에서 양의 정수의 합을 구하는 함수, `postive_sum`을 만들어 보아요.\n",
    "\n",
    "예시)\n",
    "```\n",
    "positive_sum([1, -10, 2]) #3\n",
    "```"
   ]
  },
  {
   "cell_type": "code",
   "execution_count": 10,
   "metadata": {},
   "outputs": [
    {
     "data": {
      "text/plain": [
       "21"
      ]
     },
     "execution_count": 10,
     "metadata": {},
     "output_type": "execute_result"
    }
   ],
   "source": [
    "def positive_sum(nums):\n",
    "    ssum = 0\n",
    "\n",
    "    for i in range(0,len(nums)):\n",
    "        if num_list[i] > 0:\n",
    "            ssum += nums[i]\n",
    "\n",
    "    return ssum\n",
    "positive_sum([ 10, -2, 3, -5, 8])"
   ]
  },
  {
   "cell_type": "markdown",
   "metadata": {},
   "source": [
    "### 2. 문자열 탐색\n",
    "> 문자열 요소로만 이루어진 리스트를 넣었을 때. 문자열의 길이가 2이상이고 주어진 문자열의 첫번째와 마지막 문자가 같은 문자열 수를 세는 함수 `start_end`를 작성하세요\n",
    "\n",
    "예시)\n",
    "```python\n",
    "start_end(['level', 'asdwe', 's', 'abadsfa', 'q1q']) #3\n",
    "```"
   ]
  },
  {
   "cell_type": "code",
   "execution_count": 142,
   "metadata": {},
   "outputs": [
    {
     "data": {
      "text/plain": [
       "4"
      ]
     },
     "execution_count": 142,
     "metadata": {},
     "output_type": "execute_result"
    }
   ],
   "source": [
    "def start_end(string):\n",
    "    count = 0\n",
    "    real_count = 0\n",
    "    for i in range(0,len(string)):\n",
    "        for j in range(0, len(string[i])):\n",
    "            if j >= (len(string[i])-j):\n",
    "                break\n",
    "            elif string[i][j]==string[i][len(string[i])-j-1]:\n",
    "                count = 1\n",
    "            else:\n",
    "                count = 0\n",
    "                break\n",
    "        if count == 1:\n",
    "            real_count += 1\n",
    "    return real_count\n",
    "words = ['level', 'asdwe', 's', 'abadsfa', 'q1q', \"aaaa\"]\n",
    "start_end(words)\n"
   ]
  },
  {
   "cell_type": "code",
   "execution_count": 88,
   "metadata": {},
   "outputs": [
    {
     "data": {
      "text/plain": [
       "'s'"
      ]
     },
     "execution_count": 88,
     "metadata": {},
     "output_type": "execute_result"
    }
   ],
   "source": [
    "string = ['level', 'asdwe', 's', 'abadsfa', 'q1q']\n",
    "len(string)\n",
    "len(string[3])\n",
    "string[1][1]"
   ]
  },
  {
   "cell_type": "markdown",
   "metadata": {},
   "source": [
    "### 3.  Collatz\n",
    "\n",
    "collaz 추측 : 어떤 자연수 n 이던지, 다음과 같은 작업을 반복하면 1로 만들 수 있다.\n",
    "1. n이 짝수라면 2로나눈다\n",
    "2. n이 홀수라면 3을 곱하고 1을 더한다.\n",
    "3. 결과로 나온 수에 1/2의 작업을 1이 될 때 까지 반복한다.\n",
    "\n",
    "예를들어 n이 6이면 6 > 3 > 10 > 5 > 16 > 8 > 4 > 2 > 1\n",
    "\n",
    "몇번걸리는지 collatz()를 작성하시오"
   ]
  },
  {
   "cell_type": "code",
   "execution_count": 18,
   "metadata": {},
   "outputs": [
    {
     "data": {
      "text/plain": [
       "0"
      ]
     },
     "execution_count": 18,
     "metadata": {},
     "output_type": "execute_result"
    }
   ],
   "source": [
    "def collatz(num):\n",
    "    if num == 1:\n",
    "        return 0\n",
    "    elif num % 2 == 0:\n",
    "        num = num /2\n",
    "        return 1 + collatz(num)\n",
    "    elif num % 2 == 1:\n",
    "        num = num *3 +1\n",
    "        return 1 + collatz(num)\n",
    "    \n",
    "collatz(1)\n"
   ]
  },
  {
   "cell_type": "code",
   "execution_count": 17,
   "metadata": {},
   "outputs": [
    {
     "name": "stdout",
     "output_type": "stream",
     "text": [
      "626331\n"
     ]
    }
   ],
   "source": [
    "def collatz(num):\n",
    "    for i in range(500):\n",
    "        if num == 1:\n",
    "            return i \n",
    "        elif num % 2 == 0:\n",
    "            num = num /2 \n",
    "        else:\n",
    "            num = num *3 +1\n",
    "    return i+1\n",
    "for i in range(1, 2** 100):\n",
    "    if collatz(i) == 500:\n",
    "        print(i)\n",
    "        break\n",
    "\n",
    "\n"
   ]
  },
  {
   "cell_type": "code",
   "execution_count": 34,
   "metadata": {},
   "outputs": [
    {
     "ename": "UnboundLocalError",
     "evalue": "local variable 'i' referenced before assignment",
     "output_type": "error",
     "traceback": [
      "\u001b[1;31m---------------------------------------------------------------------------\u001b[0m",
      "\u001b[1;31mUnboundLocalError\u001b[0m                         Traceback (most recent call last)",
      "\u001b[1;32m<ipython-input-34-74ec14637534>\u001b[0m in \u001b[0;36m<module>\u001b[1;34m\u001b[0m\n\u001b[0;32m     10\u001b[0m                 \u001b[0mcount\u001b[0m \u001b[1;33m+=\u001b[0m \u001b[1;36m1\u001b[0m\u001b[1;33m\u001b[0m\u001b[1;33m\u001b[0m\u001b[0m\n\u001b[0;32m     11\u001b[0m     \u001b[1;32mreturn\u001b[0m \u001b[0mi\u001b[0m\u001b[1;33m\u001b[0m\u001b[1;33m\u001b[0m\u001b[0m\n\u001b[1;32m---> 12\u001b[1;33m \u001b[0mfind_collatz\u001b[0m\u001b[1;33m(\u001b[0m\u001b[1;36m501\u001b[0m\u001b[1;33m)\u001b[0m\u001b[1;33m\u001b[0m\u001b[1;33m\u001b[0m\u001b[0m\n\u001b[0m",
      "\u001b[1;32m<ipython-input-34-74ec14637534>\u001b[0m in \u001b[0;36mfind_collatz\u001b[1;34m(list_num)\u001b[0m\n\u001b[0;32m      9\u001b[0m                 \u001b[0mi\u001b[0m \u001b[1;33m=\u001b[0m \u001b[1;36m3\u001b[0m\u001b[1;33m*\u001b[0m\u001b[0mi\u001b[0m \u001b[1;33m+\u001b[0m \u001b[1;36m1\u001b[0m\u001b[1;33m\u001b[0m\u001b[1;33m\u001b[0m\u001b[0m\n\u001b[0;32m     10\u001b[0m                 \u001b[0mcount\u001b[0m \u001b[1;33m+=\u001b[0m \u001b[1;36m1\u001b[0m\u001b[1;33m\u001b[0m\u001b[1;33m\u001b[0m\u001b[0m\n\u001b[1;32m---> 11\u001b[1;33m     \u001b[1;32mreturn\u001b[0m \u001b[0mi\u001b[0m\u001b[1;33m\u001b[0m\u001b[1;33m\u001b[0m\u001b[0m\n\u001b[0m\u001b[0;32m     12\u001b[0m \u001b[0mfind_collatz\u001b[0m\u001b[1;33m(\u001b[0m\u001b[1;36m501\u001b[0m\u001b[1;33m)\u001b[0m\u001b[1;33m\u001b[0m\u001b[1;33m\u001b[0m\u001b[0m\n",
      "\u001b[1;31mUnboundLocalError\u001b[0m: local variable 'i' referenced before assignment"
     ]
    }
   ],
   "source": [
    "def find_collatz(list_num):\n",
    "    count = 1\n",
    "    while count == list_num:\n",
    "        for i in range(2, 2 ** 500):\n",
    "            if i % 2 == 0:\n",
    "                i = i / 2\n",
    "                count += 1\n",
    "            elif i % 2 == 1:\n",
    "                i = 3*i + 1\n",
    "                count += 1\n",
    "    return i\n",
    "find_collatz(501)"
   ]
  },
  {
   "cell_type": "code",
   "execution_count": 30,
   "metadata": {},
   "outputs": [
    {
     "name": "stdout",
     "output_type": "stream",
     "text": [
      "나무를 1번 찍었습니다.\n",
      "나무를 2번 찍었습니다.\n",
      "나무를 3번 찍었습니다.\n",
      "나무를 4번 찍었습니다.\n",
      "나무를 5번 찍었습니다.\n",
      "나무를 6번 찍었습니다.\n",
      "나무를 7번 찍었습니다.\n",
      "나무를 8번 찍었습니다.\n",
      "나무를 9번 찍었습니다.\n",
      "나무를 10번 찍었습니다.\n",
      "나무 넘어갑니다.\n"
     ]
    }
   ],
   "source": [
    "treeHit = 0\n",
    "while treeHit < 10:\n",
    "    treeHit = treeHit +1\n",
    "    print(\"나무를 %d번 찍었습니다.\" % treeHit)\n",
    "    if treeHit == 10:\n",
    "        print(\"나무 넘어갑니다.\")"
   ]
  },
  {
   "cell_type": "markdown",
   "metadata": {},
   "source": [
    "### 4. 솔로 천국\n",
    "> 리스트가 주어질 때, 리스트의 요소 `e`는 `range(0, 10)`에 포함되는 자연수 이다. 리스트에서 연속적으로 나타나는 숫자는 하나만 남기고 전부 제거하여 `return`하는 함수 `lonely()`를 작성해보세요. 이 때! 제거된 후 남은 수들을 반환할 때는 리스트의 요소들이 순서를 유지해야 합니다.\n",
    "\n",
    "예시)\n",
    "```python\n",
    "lonely([1, 1, 3, 3, 0, 1, 1, 3, 0, 3]) #[1, 3, 0]\n",
    "lonely([4, 4, 3, 3, 3, 3, 4]) #[4, 3]\n",
    "```"
   ]
  },
  {
   "cell_type": "code",
   "execution_count": 55,
   "metadata": {
    "scrolled": true
   },
   "outputs": [
    {
     "data": {
      "text/plain": [
       "[4, 3, 2, 0, -3, 100]"
      ]
     },
     "execution_count": 55,
     "metadata": {},
     "output_type": "execute_result"
    }
   ],
   "source": [
    "\n",
    "def lonely (love):\n",
    "    solo = {}\n",
    "    solo_list = []\n",
    "    for i in love:\n",
    "        solo[i] = love.count(i)\n",
    "    for i in solo:\n",
    "        solo_list.append(i)\n",
    "    return solo_list\n",
    "love = [1, 1, 3, 3, 0, 1, 1, 3, 0, 3]\n",
    "lonely([4,4,4,3,3,2,2,0,-3,100,4 ,4])"
   ]
  },
  {
   "cell_type": "code",
   "execution_count": null,
   "metadata": {},
   "outputs": [],
   "source": []
  },
  {
   "cell_type": "code",
   "execution_count": 9,
   "metadata": {},
   "outputs": [
    {
     "data": {
      "text/plain": [
       "[1, 1, 3, 0, 1, 1, 3, 0, 3]"
      ]
     },
     "execution_count": 9,
     "metadata": {},
     "output_type": "execute_result"
    }
   ],
   "source": []
  },
  {
   "cell_type": "code",
   "execution_count": null,
   "metadata": {},
   "outputs": [],
   "source": []
  },
  {
   "cell_type": "markdown",
   "metadata": {},
   "source": [
    "### 5. *RGB삼각형\n",
    "> 입력으로 `R`, `G`, `B` 가들어오면 \n",
    "```\n",
    "        R R G B R G B B\n",
    "         R B R G B R B\n",
    "          G G B R G G\n",
    "               .\n",
    "               .\n",
    "               .\n",
    "               G\n",
    "``` \n",
    "> 를 만족하는 `triangle()` 함수를 작성하시오."
   ]
  },
  {
   "cell_type": "code",
   "execution_count": 13,
   "metadata": {},
   "outputs": [
    {
     "data": {
      "text/plain": [
       "['B']"
      ]
     },
     "execution_count": 13,
     "metadata": {},
     "output_type": "execute_result"
    }
   ],
   "source": [
    "def triangle(rgb_list):\n",
    "    rgb_list = list(rgb_list[0])\n",
    "    num_list = {\"R\" : 0, \"G\" : 1, \"B\" : 2}\n",
    "    for k in range(0, len(rgb_list)-1):\n",
    "        new_list = []\n",
    "        for i in range(0, len(rgb_list)-1):\n",
    "            if rgb_list[i] == rgb_list[i+1]:\n",
    "                new_list.append(rgb_list[i])\n",
    "            elif num_list[rgb_list[i]] + num_list[rgb_list[i+1]] == 1:\n",
    "                new_list.append(\"B\")\n",
    "            elif num_list[rgb_list[i]] + num_list[rgb_list[i+1]] == 2:\n",
    "                new_list.append(\"G\")\n",
    "            elif num_list[rgb_list[i]] + num_list[rgb_list[i+1]] == 3:\n",
    "                new_list.append(\"R\")\n",
    "            new_list\n",
    "            \n",
    "        rgb_list = new_list\n",
    "\n",
    "\n",
    "    return rgb_list\n",
    "\n",
    "rgb_list = [\"RRRBBGBR\"]\n",
    "triangle(rgb_list)"
   ]
  },
  {
   "cell_type": "code",
   "execution_count": 3,
   "metadata": {
    "scrolled": true
   },
   "outputs": [
    {
     "data": {
      "text/plain": [
       "['R', 'R', 'R', 'B', 'C', 'B']"
      ]
     },
     "execution_count": 3,
     "metadata": {},
     "output_type": "execute_result"
    }
   ],
   "source": [
    "rgb_list = [\"RRRBCB\"]\n",
    "rgb_string = list(rgb_list[0])\n",
    "rgb_string\n"
   ]
  },
  {
   "cell_type": "code",
   "execution_count": 132,
   "metadata": {},
   "outputs": [],
   "source": [
    "rgb_list = [\"R\", \"R\", \"G\", \"B\", \"R\", \"G\", \"B\", \"B\"]\n",
    "len(rgb_list)\n",
    "num_list = {\"R\" : 0, \"G\" : 1, \"B\" : 2}\n",
    "new_list = []\n",
    "for i in range(0, len(rgb_list)-1):\n",
    "    if rgb_list[i] == rgb_list[i+1]:\n",
    "        new_list.append(rgb_list[i])\n",
    "    elif num_list[rgb_list[i]] + num_list[rgb_list[i+1]] == 1:\n",
    "        new_list.append(\"B\")\n",
    "    elif num_list[rgb_list[i]] + num_list[rgb_list[i+1]] == 2:\n",
    "        new_list.append(\"G\")\n",
    "    elif num_list[rgb_list[i]] + num_list[rgb_list[i+1]] == 3:\n",
    "        new_list.append(\"R\")\n",
    "    new_list"
   ]
  },
  {
   "cell_type": "code",
   "execution_count": 125,
   "metadata": {},
   "outputs": [
    {
     "data": {
      "text/plain": [
       "8"
      ]
     },
     "execution_count": 125,
     "metadata": {},
     "output_type": "execute_result"
    }
   ],
   "source": [
    "new_list = []\n",
    "new_list.append(\"R\")\n",
    "new_list\n",
    "num_list = {\"R\" : 0, \"G\" : 1, \"B\" : 2}\n",
    "rgb_list = [\"R\", \"R\", \"G\", \"B\", \"R\", \"G\", \"B\", \"B\"]\n",
    "num_list[\"R\"]\n",
    "len(rgb_list)"
   ]
  },
  {
   "cell_type": "markdown",
   "metadata": {},
   "source": [
    "### 6. (??) 홀수개를 찾아라\n",
    "> 입력으로 list가 한개 들어옵니다. 이 list에는 1개의 수자만 홀수개 들어있습니다. 이 1개의 홀수개인 숫자를 `return`하는 `find_odd()`를 작성하세요\n",
    "\n",
    "예시)\n",
    "```python\n",
    "find_odd([1, 1, 2, 2, 3, 3, 3]) # 3\n",
    "find_odd([2, 1, 2]) #1\n",
    "```"
   ]
  },
  {
   "cell_type": "code",
   "execution_count": 52,
   "metadata": {},
   "outputs": [
    {
     "data": {
      "text/plain": [
       "3"
      ]
     },
     "execution_count": 52,
     "metadata": {},
     "output_type": "execute_result"
    }
   ],
   "source": [
    "odd = [1, 1, 2, 2, 3, 3, 3, 3, 2, 2, 2,3,2 ]\n",
    "def find_odd(num_list):\n",
    "    num_dict = {}\n",
    "    for i in num_list:\n",
    "        num_dict[i] = num_list.count(i)\n",
    "    for key, values in num_dict.items():\n",
    "        if values % 2 == 1:\n",
    "            return key\n",
    "            break\n",
    "        \n",
    "find_odd(odd)\n"
   ]
  },
  {
   "cell_type": "markdown",
   "metadata": {},
   "source": [
    "**19-01-09**"
   ]
  },
  {
   "cell_type": "markdown",
   "metadata": {},
   "source": [
    "### 1. UP&DOWN\n",
    ">우리가 `range(1,101)`중 하나를 생각한다. 컴퓨터가 절반에 위치한 숫자를 물어보고, 생각한 수보다 크면 1, 작으면 -1, 맞으면 0을 입력한다. 이 때 몇번만에 컴퓨터가 맞췄는지 출력하고 프로그램을 끝낸다.\n",
    "\n",
    "예시)\n",
    "```sh\n",
    "숫자를 생각하세요..\n",
    "50\n",
    ">-1\n",
    "25\n",
    ">-1\n",
    "13\n",
    ">-1\n",
    "7\n",
    ">1\n",
    "10\n",
    ">1\n",
    "12\n",
    ">0 \n",
    "6 번만에 맞췄습니다.\n",
    "```\n",
    "```python\n",
    "def guess_up_down():\n",
    "    print(\"숫자를 생각하세요!\")\n",
    "```"
   ]
  },
  {
   "cell_type": "code",
   "execution_count": null,
   "metadata": {},
   "outputs": [],
   "source": [
    "def guess_up_down(num):\n",
    "\n",
    "    count = 1\n",
    "    up_num = num + 1\n",
    "    down_num = 0\n",
    "    num = int(num /2) \n",
    "    print(num)\n",
    "    user_input = int(input(\"Up = 1, Down = -1, Ans = 0 : \"))\n",
    "    while user_input == 1 or user_input == -1:\n",
    "        if user_input == 1:\n",
    "            down_num = num\n",
    "            num = int((up_num+num)/2)\n",
    "            count += 1\n",
    "            print(num)\n",
    "            user_input = int(input(\"Up = 1, Down = -1, Ans = 0 : \"))\n",
    "        elif user_input == -1:\n",
    "            up_num = num\n",
    "            num = int((down_num + num)/2)\n",
    "            count += 1\n",
    "            print(num)\n",
    "            user_input = int(input(\"Up = 1, Down = -1, Ans = 0 : \"))\n",
    "    print(\"정답입니다. 횟수는{}\".format(count))\n",
    "think_num = int(input(\"원하는 숫자 범위를 입력하고 그중 하나를 생각하세요! 0 ~ \"))\n",
    "guess_up_down(think_num)\n",
    "    "
   ]
  },
  {
   "cell_type": "markdown",
   "metadata": {},
   "source": [
    "## 19-01-10\n"
   ]
  },
  {
   "cell_type": "markdown",
   "metadata": {},
   "source": [
    "## Hangman\n",
    "> 필요한 함수들!"
   ]
  },
  {
   "cell_type": "code",
   "execution_count": null,
   "metadata": {},
   "outputs": [],
   "source": [
    "def is_answer(answer, letters):\n",
    "    answer = set(answer)\n",
    "    if char not in letters:\n",
    "    return print(True if count == 1 else False)\n",
    "\n",
    "is_answer(\"apple\", [\"a\",\"p\",\"p\",\"l\",\"e\"])"
   ]
  },
  {
   "cell_type": "code",
   "execution_count": 3,
   "metadata": {},
   "outputs": [
    {
     "data": {
      "text/plain": [
       "{'a', 'e', 'l', 'p'}"
      ]
     },
     "execution_count": 3,
     "metadata": {},
     "output_type": "execute_result"
    }
   ],
   "source": [
    "answer = \"apple\"\n",
    "set(answer)"
   ]
  },
  {
   "cell_type": "code",
   "execution_count": 6,
   "metadata": {
    "scrolled": true
   },
   "outputs": [
    {
     "name": "stdout",
     "output_type": "stream",
     "text": [
      "apple\n"
     ]
    }
   ],
   "source": [
    "def status(answer, letters):\n",
    "    for char in answer:\n",
    "        if char not in letters :\n",
    "            answer = answer.replace(char, \"-\")\n",
    "    return print(answer)\n",
    "status(\"apple\",\"epal\")"
   ]
  },
  {
   "cell_type": "markdown",
   "metadata": {},
   "source": [
    "## Hangman 로직 만들기\n",
    "\n",
    "> 위의 코드를 활용하여 Hangman(answer)을 만들자! 사용자가답을 맞추거나, 시도가 8번 넘어가면 종료!\n"
   ]
  },
  {
   "cell_type": "code",
   "execution_count": null,
   "metadata": {
    "scrolled": true
   },
   "outputs": [],
   "source": [
    "def hangman(answer):\n",
    "    re_answer = answer\n",
    "    one_letters = \"\"\n",
    "    check_count = 1\n",
    "    count = 0\n",
    "    rest_count = 0\n",
    "    while count < 9:\n",
    "        answer = re_answer\n",
    "        one_letters += input()\n",
    "        for char in answer:\n",
    "            if char not in one_letters :\n",
    "                answer = answer.replace(char, \"-\")\n",
    "                check_count = 0\n",
    "        if re_answer == answer :\n",
    "            print(answer)\n",
    "            print(\"정답입니다\")\n",
    "            break\n",
    "        else:\n",
    "            if check_count == 0:\n",
    "                count += 1\n",
    "                rest_count = 9 -count\n",
    "                print(\"{}번 남음\".format(rest_count))\n",
    "            else:\n",
    "                count += 0         \n",
    "        print(answer)\n",
    "secret_ans = input()    \n",
    "hangman(secret_ans)"
   ]
  }
 ],
 "metadata": {
  "kernelspec": {
   "display_name": "Python 3",
   "language": "python",
   "name": "python3"
  },
  "language_info": {
   "codemirror_mode": {
    "name": "ipython",
    "version": 3
   },
   "file_extension": ".py",
   "mimetype": "text/x-python",
   "name": "python",
   "nbconvert_exporter": "python",
   "pygments_lexer": "ipython3",
   "version": "3.6.7"
  }
 },
 "nbformat": 4,
 "nbformat_minor": 2
}
