{
 "cells": [
  {
   "cell_type": "code",
   "execution_count": null,
   "metadata": {},
   "outputs": [],
   "source": [
    "num_1 = 42\n",
    "num_2 = 14\n",
    "\n",
    "if num_1 < num_2:\n",
    "    temp = num_1\n",
    "    num_1 = num_2\n",
    "    num_2 = temp\n",
    "\n",
    "while mod = 0:\n",
    "    mod = num_1 %num_2\n",
    "    num_1 = num_2\n",
    "    num_2 = mod\n",
    "  \n",
    "\n",
    "#최대공약수\n",
    "gcd = \n",
    "#최소공배수\n",
    "lcm = "
   ]
  }
 ],
 "metadata": {
  "kernelspec": {
   "display_name": "Python 3",
   "language": "python",
   "name": "python3"
  },
  "language_info": {
   "codemirror_mode": {
    "name": "ipython",
    "version": 3
   },
   "file_extension": ".py",
   "mimetype": "text/x-python",
   "name": "python",
   "nbconvert_exporter": "python",
   "pygments_lexer": "ipython3",
   "version": "3.6.7"
  }
 },
 "nbformat": 4,
 "nbformat_minor": 2
}
