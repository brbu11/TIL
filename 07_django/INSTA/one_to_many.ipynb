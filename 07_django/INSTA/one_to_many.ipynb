{
 "cells": [
  {
   "cell_type": "markdown",
   "metadata": {},
   "source": [
    "## One To Many model\n",
    "\n",
    "##### Writer\n",
    "\n",
    "| id      | name      |\n",
    "| ------- | --------- |\n",
    "| PK, INT | Charfield |\n",
    "|         |           |\n",
    "\n",
    "\n",
    "\n",
    "##### Book\n",
    "\n",
    "| id      | author          | title     | decription |\n",
    "| ------- | --------------- | --------- | ---------- |\n",
    "| PK, INT | FK, Writer, INT | Charfield | TextField  |"
   ]
  },
  {
   "cell_type": "code",
   "execution_count": 1,
   "metadata": {},
   "outputs": [],
   "source": [
    "a = Writer.objects.create(name='작가')"
   ]
  },
  {
   "cell_type": "code",
   "execution_count": 2,
   "metadata": {},
   "outputs": [
    {
     "data": {
      "text/plain": [
       "<Writer: Writer object (2)>"
      ]
     },
     "execution_count": 2,
     "metadata": {},
     "output_type": "execute_result"
    }
   ],
   "source": [
    "Writer.objects.create(\n",
    "name='박경리'\n",
    ")"
   ]
  },
  {
   "cell_type": "code",
   "execution_count": 3,
   "metadata": {},
   "outputs": [
    {
     "data": {
      "text/plain": [
       "<Book: Book object (1)>"
      ]
     },
     "execution_count": 3,
     "metadata": {},
     "output_type": "execute_result"
    }
   ],
   "source": [
    "Book.objects.create(\n",
    "    title = '토지',\n",
    "    description = '최참판 일가와 이용 일가의 가족사',\n",
    "    author = Writer.objects.get(id=2),\n",
    "    \n",
    ")"
   ]
  },
  {
   "cell_type": "code",
   "execution_count": 4,
   "metadata": {
    "scrolled": true
   },
   "outputs": [
    {
     "data": {
      "text/plain": [
       "<Book: Book object (2)>"
      ]
     },
     "execution_count": 4,
     "metadata": {},
     "output_type": "execute_result"
    }
   ],
   "source": [
    "Book.objects.create(\n",
    "    author = Writer.objects.get(id=2),\n",
    "    description = '어린 아들을 잃고',\n",
    "    title = '불신시대',\n",
    ")"
   ]
  },
  {
   "cell_type": "code",
   "execution_count": 5,
   "metadata": {},
   "outputs": [
    {
     "data": {
      "text/plain": [
       "'박경리'"
      ]
     },
     "execution_count": 5,
     "metadata": {},
     "output_type": "execute_result"
    }
   ],
   "source": [
    "#조건 만족하는 객체 1개 return\n",
    "writer = Writer.objects.get(name='박경리')\n",
    "\n",
    "#조건만족하는 모든 객체 return\n",
    "\n",
    "writers = Writer.objects.filter(name='박경리')\n",
    "writers[0].name\n",
    "\n",
    "park_writers_family = Writer.objects.filter(name__contains='박')\n",
    "park_writers_family[0].name"
   ]
  },
  {
   "cell_type": "code",
   "execution_count": 7,
   "metadata": {},
   "outputs": [],
   "source": [
    "writer\n",
    "book1 = Book.objects.get(id=1)\n",
    "book2 = Book.objects.get(id=2)"
   ]
  },
  {
   "cell_type": "code",
   "execution_count": 14,
   "metadata": {},
   "outputs": [
    {
     "data": {
      "text/plain": [
       "'박경리'"
      ]
     },
     "execution_count": 14,
     "metadata": {},
     "output_type": "execute_result"
    }
   ],
   "source": [
    "book1.author.name"
   ]
  },
  {
   "cell_type": "code",
   "execution_count": 15,
   "metadata": {},
   "outputs": [
    {
     "data": {
      "text/plain": [
       "'\\n토지를 너무 감명깊게 봐서 \\n1. 책들 전체에서 토지 라는 제목의 책을 찾는다.\\n2. 이 책의 작가 이름을 찾는다.\\n3. 작가들중에 그 이름을 가진 사람을 찾는다.\\n4. 책들 전체에서 그 작가의 책을 전부 가져온다.\\n'"
      ]
     },
     "execution_count": 15,
     "metadata": {},
     "output_type": "execute_result"
    }
   ],
   "source": [
    "\"\"\"\n",
    "토지를 너무 감명깊게 봐서 \n",
    "1. 책들 전체에서 토지 라는 제목의 책을 찾는다.\n",
    "2. 이 책의 작가 이름을 찾는다.\n",
    "3. 작가들중에 그 이름을 가진 사람을 찾는다.\n",
    "4. 책들 전체에서 그 작가의 책을 전부 가져온다.\n",
    "\"\"\""
   ]
  },
  {
   "cell_type": "code",
   "execution_count": 40,
   "metadata": {},
   "outputs": [],
   "source": [
    "favorite_book = Book.objects.get(title='토지')\n",
    "\n",
    "favorite_writer_name = favorite_book.author.name\n",
    "\n",
    "favorite_writer = Writer.objects.get(name=favorite_writer_name)\n",
    "\n"
   ]
  },
  {
   "cell_type": "code",
   "execution_count": 42,
   "metadata": {},
   "outputs": [
    {
     "data": {
      "text/plain": [
       "<QuerySet [<Book: Book object (1)>, <Book: Book object (2)>]>"
      ]
     },
     "execution_count": 42,
     "metadata": {},
     "output_type": "execute_result"
    }
   ],
   "source": [
    "book_wish_list = Book.objects.filter(author = favorite_writer)\n",
    "\n",
    "book_wish_list"
   ]
  },
  {
   "cell_type": "code",
   "execution_count": 53,
   "metadata": {},
   "outputs": [
    {
     "name": "stdout",
     "output_type": "stream",
     "text": [
      "토지 최참판 일가와 이용 일가의 가족사\n",
      "불신시대 어린 아들을 잃고\n"
     ]
    },
    {
     "data": {
      "text/plain": [
       "<QuerySet [<Book: Book object (1)>, <Book: Book object (2)>]>"
      ]
     },
     "execution_count": 53,
     "metadata": {},
     "output_type": "execute_result"
    }
   ],
   "source": [
    "for i in favorite_writer.book_set.all():\n",
    "    print(i.title, i.description)\n",
    "    \n",
    "Book.objects.filter(author=favorite_writer)"
   ]
  },
  {
   "cell_type": "code",
   "execution_count": null,
   "metadata": {},
   "outputs": [],
   "source": []
  }
 ],
 "metadata": {
  "kernelspec": {
   "display_name": "Django Shell-Plus",
   "language": "python",
   "name": "django_extensions"
  },
  "language_info": {
   "codemirror_mode": {
    "name": "ipython",
    "version": 3
   },
   "file_extension": ".py",
   "mimetype": "text/x-python",
   "name": "python",
   "nbconvert_exporter": "python",
   "pygments_lexer": "ipython3",
   "version": "3.7.3"
  }
 },
 "nbformat": 4,
 "nbformat_minor": 2
}
