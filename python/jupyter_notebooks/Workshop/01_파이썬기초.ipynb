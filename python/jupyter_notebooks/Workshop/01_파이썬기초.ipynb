{
 "cells": [
  {
   "cell_type": "markdown",
   "metadata": {},
   "source": [
    "Day1\n",
    "\n",
    "Workshop"
   ]
  },
  {
   "cell_type": "code",
   "execution_count": 16,
   "metadata": {},
   "outputs": [
    {
     "name": "stdout",
     "output_type": "stream",
     "text": [
      "*****\n",
      "*****\n",
      "*****\n",
      "*****\n",
      "*****\n",
      "*****\n",
      "*****\n",
      "*****\n",
      "*****\n"
     ]
    }
   ],
   "source": [
    "n = 5\n",
    "m = 9\n",
    "i = 0\n",
    "    \n",
    "while i < m:\n",
    "    print(\"*\"*n)\n",
    "    i += 1"
   ]
  },
  {
   "cell_type": "code",
   "execution_count": 27,
   "metadata": {},
   "outputs": [
    {
     "name": "stdout",
     "output_type": "stream",
     "text": [
      "87.75\n"
     ]
    }
   ],
   "source": [
    "student = {\"python\" : 80, \"algorithm\" : 99, \"django\" : 89, \"flask\" : 83}\n",
    "\n",
    "average = (student[\"python\"] + student[\"algorithm\"] + student[\"django\"] + student[\"flask\"] )/ len(student)\n",
    "\n",
    "print(average)"
   ]
  },
  {
   "cell_type": "code",
   "execution_count": 48,
   "metadata": {},
   "outputs": [
    {
     "name": "stdout",
     "output_type": "stream",
     "text": [
      "\n",
      "    A형 : 3명\n",
      "    B형 : 3명\n",
      "    AB형 : 3명\n",
      "    O형 : 3명\n",
      "\n"
     ]
    }
   ],
   "source": [
    "blood_types = ['A', 'B', 'A', 'O', 'AB', 'AB', 'O', 'A', 'B' ,'O', 'B', 'AB']\n",
    "\n",
    "A = 0\n",
    "B = 0\n",
    "AB = 0\n",
    "O = 0\n",
    "i = 0\n",
    "\n",
    "for i in blood_types:\n",
    "    if i == 'A':\n",
    "        A += 1\n",
    "    elif i == 'B':\n",
    "        B += 1\n",
    "    elif i == 'AB':\n",
    "        AB += 1\n",
    "    elif i == 'O':\n",
    "        O += 1\n",
    "\n",
    "print(\"\"\"\n",
    "    A형 : {}명\n",
    "    B형 : {}명\n",
    "    AB형 : {}명\n",
    "    O형 : {}명\n",
    "\"\"\".format(A,B,AB,O))"
   ]
  },
  {
   "cell_type": "code",
   "execution_count": null,
   "metadata": {},
   "outputs": [],
   "source": []
  }
 ],
 "metadata": {
  "kernelspec": {
   "display_name": "Python 3",
   "language": "python",
   "name": "python3"
  },
  "language_info": {
   "codemirror_mode": {
    "name": "ipython",
    "version": 3
   },
   "file_extension": ".py",
   "mimetype": "text/x-python",
   "name": "python",
   "nbconvert_exporter": "python",
   "pygments_lexer": "ipython3",
   "version": "3.6.7"
  }
 },
 "nbformat": 4,
 "nbformat_minor": 2
}
