{
 "cells": [
  {
   "cell_type": "code",
   "execution_count": 1,
   "metadata": {
    "scrolled": true
   },
   "outputs": [
    {
     "ename": "SyntaxError",
     "evalue": "unexpected EOF while parsing (<ipython-input-1-01ee849d5d45>, line 2)",
     "output_type": "error",
     "traceback": [
      "\u001b[1;36m  File \u001b[1;32m\"<ipython-input-1-01ee849d5d45>\"\u001b[1;36m, line \u001b[1;32m2\u001b[0m\n\u001b[1;33m    \u001b[0m\n\u001b[1;37m    ^\u001b[0m\n\u001b[1;31mSyntaxError\u001b[0m\u001b[1;31m:\u001b[0m unexpected EOF while parsing\n"
     ]
    }
   ],
   "source": [
    "def Palindrome(string):\n",
    "    "
   ]
  },
  {
   "cell_type": "code",
   "execution_count": null,
   "metadata": {},
   "outputs": [],
   "source": []
  },
  {
   "cell_type": "code",
   "execution_count": 6,
   "metadata": {},
   "outputs": [
    {
     "name": "stdout",
     "output_type": "stream",
     "text": [
      "A santa at NASA\n",
      "True\n",
      "['a', 's', 'a', 'n', 't', 'a', 'a', 't', 'n', 'a', 's', 'a']\n"
     ]
    }
   ],
   "source": [
    "def palindrome(string):\n",
    "    string = string.lower().replace(\" \", \"\")\n",
    "    palin_1 = []\n",
    "    palin_2 = []\n",
    "    for i in range(len(string)):\n",
    "        palin_1.append(string[len(string)-i-1])\n",
    "        palin_2.append(string[i])\n",
    "        \n",
    "    if palin_1 == palin_2:\n",
    "        print(\"True\")\n",
    "        print(palin_2)\n",
    "    else:\n",
    "        print(\"False\")\n",
    "        print(palin_2)\n",
    "palindrome(input(str()))\n"
   ]
  },
  {
   "cell_type": "code",
   "execution_count": null,
   "metadata": {},
   "outputs": [],
   "source": []
  }
 ],
 "metadata": {
  "kernelspec": {
   "display_name": "Python 3",
   "language": "python",
   "name": "python3"
  },
  "language_info": {
   "codemirror_mode": {
    "name": "ipython",
    "version": 3
   },
   "file_extension": ".py",
   "mimetype": "text/x-python",
   "name": "python",
   "nbconvert_exporter": "python",
   "pygments_lexer": "ipython3",
   "version": "3.6.7"
  }
 },
 "nbformat": 4,
 "nbformat_minor": 2
}
