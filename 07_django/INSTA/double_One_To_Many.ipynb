{
 "cells": [
  {
   "cell_type": "markdown",
   "metadata": {},
   "source": [
    "## One To Many model\n",
    "\n",
    "##### Writer\n",
    "\n",
    "| id (PK)     | name      |\n",
    "| ------- | --------- |\n",
    "|  INT | Charfield |\n",
    "|         |           |\n",
    "\n",
    "\n",
    "\n",
    "##### Book\n",
    "\n",
    "| id  (PK)    | author (FK - Writer)         | title     | decription |\n",
    "| ------- | --------------- | --------- | ---------- |\n",
    "| INT | INT | Charfield | TextField  |\n",
    "\n",
    "\n",
    "\n",
    "##### chapter\n",
    "\n",
    "| id (PK)    | book_id (FK - Book)     | title     | description |\n",
    "| ------ | ------------ | --------- | ----------- |\n",
    "|INT |INT | CharField | TextField   |"
   ]
  },
  {
   "cell_type": "code",
   "execution_count": 1,
   "metadata": {},
   "outputs": [
    {
     "data": {
      "text/plain": [
       "<Writer: Writer object (3)>"
      ]
     },
     "execution_count": 1,
     "metadata": {},
     "output_type": "execute_result"
    }
   ],
   "source": [
    "#Writer 객체 생성\n",
    "\n",
    "Writer.objects.create(name = '이선 브라운')"
   ]
  },
  {
   "cell_type": "code",
   "execution_count": 2,
   "metadata": {},
   "outputs": [
    {
     "data": {
      "text/plain": [
       "<Book: Book object (3)>"
      ]
     },
     "execution_count": 2,
     "metadata": {},
     "output_type": "execute_result"
    }
   ],
   "source": [
    "#Book 객체 생성\n",
    "\n",
    "Book.objects.create(\n",
    "    title = '러닝 자바스크립트', \n",
    "    description = 'ES6로 제대로 입문하는 모던 자바스크립트',\n",
    "    author = Writer.objects.get(name='이선 브라운'),\n",
    "    \n",
    ")"
   ]
  },
  {
   "cell_type": "code",
   "execution_count": 3,
   "metadata": {},
   "outputs": [
    {
     "data": {
      "text/plain": [
       "<Book: Book object (4)>"
      ]
     },
     "execution_count": 3,
     "metadata": {},
     "output_type": "execute_result"
    }
   ],
   "source": [
    "Book.objects.create(\n",
    "    title = '러닝 파이썬',\n",
    "    description = 'Python37로 제대로 입문하는 파이썬',\n",
    "    author = Writer.objects.get(name='이선 브라운'),\n",
    "    \n",
    ")"
   ]
  },
  {
   "cell_type": "code",
   "execution_count": 4,
   "metadata": {},
   "outputs": [
    {
     "data": {
      "text/plain": [
       "<Chapter: Chapter object (4)>"
      ]
     },
     "execution_count": 4,
     "metadata": {},
     "output_type": "execute_result"
    }
   ],
   "source": [
    "#Chapter 객체 생성\n",
    "Chapter.objects.create(\n",
    "    book = Book.objects.get(id=3),\n",
    "    title = 'First App',\n",
    "    description = '시작은 브라우저에서',\n",
    ")\n",
    "\n",
    "Chapter.objects.create(\n",
    "    book = Book.objects.get(id=3),\n",
    "    title = '개발도구',\n",
    "    description = '트랜스 컴파일러'\n",
    ")\n",
    "\n",
    "Chapter.objects.create(\n",
    "    book = Book.objects.get(id=4),\n",
    "    title = 'Python 기초문법',\n",
    "    description = '변수, 문자열, 숫자, 참/거짓',\n",
    ")\n",
    "\n",
    "Chapter.objects.create(\n",
    "    book = Book.objects.get(id=4),\n",
    "    title = 'Python 자료구조',\n",
    "    description = '리스트, 딕셔너리, 튜플, 세트',\n",
    ")"
   ]
  },
  {
   "cell_type": "code",
   "execution_count": null,
   "metadata": {},
   "outputs": [],
   "source": []
  },
  {
   "cell_type": "code",
   "execution_count": null,
   "metadata": {},
   "outputs": [],
   "source": []
  },
  {
   "cell_type": "code",
   "execution_count": 5,
   "metadata": {},
   "outputs": [],
   "source": [
    "#파이썬 배우고싶다... 딕셔너리를 찾아볼까??\n",
    "\n",
    "#딕셔너리라는 챕터 설명이 있는 책의 저자가 쓴 모든책\n",
    "\n",
    "dic_chapter = Chapter.objects.get(description__contains='딕셔너리')"
   ]
  },
  {
   "cell_type": "code",
   "execution_count": 7,
   "metadata": {},
   "outputs": [],
   "source": [
    "writer = dic_chapter.book.author"
   ]
  },
  {
   "cell_type": "code",
   "execution_count": 9,
   "metadata": {},
   "outputs": [],
   "source": [
    "all_books = Book.objects.filter(author = writer)"
   ]
  },
  {
   "cell_type": "code",
   "execution_count": 11,
   "metadata": {},
   "outputs": [
    {
     "name": "stdout",
     "output_type": "stream",
     "text": [
      "러닝 자바스크립트\n",
      "러닝 파이썬\n"
     ]
    }
   ],
   "source": [
    "for i in all_books:\n",
    "    print(i.title)"
   ]
  },
  {
   "cell_type": "code",
   "execution_count": null,
   "metadata": {},
   "outputs": [],
   "source": []
  },
  {
   "cell_type": "code",
   "execution_count": 16,
   "metadata": {},
   "outputs": [
    {
     "data": {
      "text/plain": [
       "<QuerySet [<Book: Book object (3)>, <Book: Book object (4)>]>"
      ]
     },
     "execution_count": 16,
     "metadata": {},
     "output_type": "execute_result"
    }
   ],
   "source": [
    "writer.book_set.all() "
   ]
  },
  {
   "cell_type": "code",
   "execution_count": 30,
   "metadata": {},
   "outputs": [],
   "source": [
    "books_2019 = Book.objects.filter(created__year = 2019)[2:2 + 3]"
   ]
  },
  {
   "cell_type": "code",
   "execution_count": 31,
   "metadata": {},
   "outputs": [
    {
     "name": "stdout",
     "output_type": "stream",
     "text": [
      "러닝 자바스크립트\n",
      "러닝 파이썬\n"
     ]
    }
   ],
   "source": [
    "for i in books_2019:\n",
    "    print(i.title)"
   ]
  },
  {
   "cell_type": "code",
   "execution_count": 35,
   "metadata": {},
   "outputs": [],
   "source": [
    "books_2018s = Book.objects.filter(created__year__gt = 2018)"
   ]
  },
  {
   "cell_type": "code",
   "execution_count": 36,
   "metadata": {
    "scrolled": true
   },
   "outputs": [
    {
     "name": "stdout",
     "output_type": "stream",
     "text": [
      "토지\n",
      "불신시대\n",
      "러닝 자바스크립트\n",
      "러닝 파이썬\n"
     ]
    }
   ],
   "source": [
    "for i in books_2018s:\n",
    "    print(i.title)"
   ]
  },
  {
   "cell_type": "markdown",
   "metadata": {},
   "source": []
  }
 ],
 "metadata": {
  "kernelspec": {
   "display_name": "Django Shell-Plus",
   "language": "python",
   "name": "django_extensions"
  },
  "language_info": {
   "codemirror_mode": {
    "name": "ipython",
    "version": 3
   },
   "file_extension": ".py",
   "mimetype": "text/x-python",
   "name": "python",
   "nbconvert_exporter": "python",
   "pygments_lexer": "ipython3",
   "version": "3.7.3"
  }
 },
 "nbformat": 4,
 "nbformat_minor": 2
}
