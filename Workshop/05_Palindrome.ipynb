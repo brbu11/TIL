{
 "cells": [
  {
   "cell_type": "code",
   "execution_count": 1,
   "metadata": {},
   "outputs": [
    {
     "name": "stdout",
     "output_type": "stream",
     "text": [
      "dfffd\n",
      "True\n"
     ]
    }
   ],
   "source": [
    "def palindrome(string):\n",
    "    string = string.lower().replace(\" \", \"\")\n",
    "    palin_1 = []\n",
    "    palin_2 = []\n",
    "    for i in range(len(string)):\n",
    "        palin_1.append(string[len(string)-i-1])\n",
    "        palin_2.append(string[i])\n",
    "        \n",
    "    if palin_1 == palin_2:\n",
    "        print(\"True\")\n",
    "     \n",
    "    else:\n",
    "        print(\"False\")\n",
    "\n",
    "palindrome(input(str()))\n"
   ]
  }
 ],
 "metadata": {
  "kernelspec": {
   "display_name": "Python 3",
   "language": "python",
   "name": "python3"
  },
  "language_info": {
   "codemirror_mode": {
    "name": "ipython",
    "version": 3
   },
   "file_extension": ".py",
   "mimetype": "text/x-python",
   "name": "python",
   "nbconvert_exporter": "python",
   "pygments_lexer": "ipython3",
   "version": "3.6.7"
  }
 },
 "nbformat": 4,
 "nbformat_minor": 2
}
