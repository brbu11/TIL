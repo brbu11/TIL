{
 "cells": [
  {
   "cell_type": "code",
   "execution_count": 3,
   "metadata": {},
   "outputs": [
    {
     "name": "stdout",
     "output_type": "stream",
     "text": [
      "1  2  3  4  5  6  "
     ]
    }
   ],
   "source": [
    "my_list1 = [1, 2, 3, 4, 5, 6]\n",
    "for i in my_list:\n",
    "    print(i, end = \"  \")"
   ]
  },
  {
   "cell_type": "code",
   "execution_count": 12,
   "metadata": {},
   "outputs": [
    {
     "name": "stdout",
     "output_type": "stream",
     "text": [
      "0 : 1\n",
      "1 : 2\n",
      "2 : 3\n",
      "3 : 4\n",
      "4 : 5\n",
      "5 : 6\n"
     ]
    }
   ],
   "source": [
    "my_list2 = [1, 2, 3, 4, 5, 6]\n",
    "for index, i in enumerate(my_list2):\n",
    "    print( index,\":\", i)"
   ]
  },
  {
   "cell_type": "code",
   "execution_count": 21,
   "metadata": {},
   "outputs": [
    {
     "name": "stdout",
     "output_type": "stream",
     "text": [
      "for key in\n",
      "이 종 화 \n",
      "for value in\n",
      "0 1 2 \n",
      "for key, value in\n",
      "이 0 종 1 화 2 "
     ]
    }
   ],
   "source": [
    "my_dict = {\n",
    "    \"이\" : 0,\n",
    "    \"종\" : 1,\n",
    "    \"화\" : 2\n",
    "}\n",
    "print(\"for key in\")\n",
    "for i in my_dict.keys():\n",
    "    print( i , end = \" \")\n",
    "print(\"\")\n",
    "print(\"for value in\")\n",
    "for i in my_dict.values():\n",
    "    print( i , end = \" \")\n",
    "print(\"\")\n",
    "print(\"for key, value in\")\n",
    "for key , value in my_dict.items():\n",
    "    print(key , value, end=\" \")"
   ]
  },
  {
   "cell_type": "code",
   "execution_count": 23,
   "metadata": {},
   "outputs": [
    {
     "name": "stdout",
     "output_type": "stream",
     "text": [
      "6\n"
     ]
    }
   ],
   "source": [
    "def my_func(a,b):\n",
    "    c = a+b\n",
    "    print(c)\n",
    "\n",
    "result = my_func(1,5)\n",
    "\n",
    "result"
   ]
  }
 ],
 "metadata": {
  "kernelspec": {
   "display_name": "Python 3",
   "language": "python",
   "name": "python3"
  },
  "language_info": {
   "codemirror_mode": {
    "name": "ipython",
    "version": 3
   },
   "file_extension": ".py",
   "mimetype": "text/x-python",
   "name": "python",
   "nbconvert_exporter": "python",
   "pygments_lexer": "ipython3",
   "version": "3.6.7"
  }
 },
 "nbformat": 4,
 "nbformat_minor": 2
}
