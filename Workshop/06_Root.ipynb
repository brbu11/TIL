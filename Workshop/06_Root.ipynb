{
 "cells": [
  {
   "cell_type": "code",
   "execution_count": 8,
   "metadata": {},
   "outputs": [
    {
     "name": "stdout",
     "output_type": "stream",
     "text": [
      "찾고싶은 숫자를 입력하시오: 20\n",
      "4 < 20 < 5\n",
      "4 < 20 < 4.5\n",
      "4.25 < 20 < 4.5\n",
      "4.375 < 20 < 4.5\n",
      "4.4375 < 20 < 4.5\n",
      "4.4688 < 20 < 4.5\n",
      "4.4688 < 20 < 4.4844\n",
      "4.4688 < 20 < 4.4766\n",
      "4.4688 < 20 < 4.4727\n",
      "4.4707 < 20 < 4.4727\n",
      "4.4717 < 20 < 4.4727\n",
      "4.4717 < 20 < 4.4722\n",
      "4.4719 < 20 < 4.4722\n",
      "4.472 < 20 < 4.4722\n",
      "4.4721 < 20 < 4.4722\n"
     ]
    }
   ],
   "source": [
    "def find_root(num):\n",
    "    small_num = 0\n",
    "    big_num = 0\n",
    "    for i in range(1,num):\n",
    "        if i**2 < num and (i+1)**2 >num:\n",
    "            small_num = i\n",
    "            big_num = i+1\n",
    "            break\n",
    "        elif i**2 == num :\n",
    "            print(i)            \n",
    "    while round(small_num, 4) != round(big_num, 4):\n",
    "        print(\"{} < {} < {}\".format(round(small_num, 4), num, round(big_num,4)))\n",
    "        if ((small_num + big_num)/2)**2 > num :\n",
    "            big_num = ((small_num + big_num)/2)\n",
    "        else:\n",
    "            small_num = ((small_num + big_num)/2)\n",
    "root_num = int(input(\"찾고싶은 숫자를 입력하시오: \"))\n",
    "find_root(root_num)  "
   ]
  },
  {
   "cell_type": "code",
   "execution_count": null,
   "metadata": {},
   "outputs": [],
   "source": []
  }
 ],
 "metadata": {
  "kernelspec": {
   "display_name": "Python 3",
   "language": "python",
   "name": "python3"
  },
  "language_info": {
   "codemirror_mode": {
    "name": "ipython",
    "version": 3
   },
   "file_extension": ".py",
   "mimetype": "text/x-python",
   "name": "python",
   "nbconvert_exporter": "python",
   "pygments_lexer": "ipython3",
   "version": "3.6.7"
  }
 },
 "nbformat": 4,
 "nbformat_minor": 2
}
